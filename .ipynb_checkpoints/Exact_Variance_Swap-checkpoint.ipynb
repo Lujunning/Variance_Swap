{
 "cells": [
  {
   "cell_type": "code",
   "execution_count": 1,
   "id": "5179341b-5229-45be-bdd7-7cdad5857cfc",
   "metadata": {},
   "outputs": [],
   "source": [
    "import numpy as np\n",
    "import math"
   ]
  },
  {
   "cell_type": "markdown",
   "id": "a246621c-19fd-4a3e-9891-32d989446253",
   "metadata": {},
   "source": [
    "### Fair strike price for the variance swap\n",
    "The fair strike price for the variance swap is given as:\n",
    "$$K_{var}=E_0^Q[\\sigma_R^2]=\\frac{e^{r\\Delta t}}{T}[f(v_0)+\\sum_{i=2}^Nf_i(v_0)]\\times100^2$$\n",
    "where r is interest rate, $\\Delta t$ is defined as $\\frac{T}{N}$ and N is the number of obersavation days.\n",
    "\n",
    "Function $f(v_0)$ and $f_i(v_0)$ are defined as:\n",
    "$$f(v)=e^{\\tilde C(\\Delta t)+\\tilde D(\\Delta t)v}+e^{-r\\Delta t}-2$$\n",
    "$$\\begin{aligned}f_{i}(v_{0})&=e^{\\tilde{C}(\\Delta t)+\\frac{c_{i}e^{-\\kappa^{*}t_{i-1}}}{c_{i}-\\tilde{D}(\\Delta t)}\\tilde{D}(\\Delta t)v_{0}}(\\frac{c_{i}}{c_{i}-\\tilde{D}(\\Delta t)})^{\\frac{2\\kappa^{*}\\theta^{*}}{\\sigma_{V}^{2}}}+e^{-r\\Delta t}-2\\end{aligned}$$\n",
    "where $t_i = i\\Delta t$, and $\\kappa^{*}, \\theta^{*}, \\sigma_{V}$ are the parameters of Heston model under risk-neutral probability measure.\n",
    "\n",
    "Function $\\tilde{C}(\\Delta t)$ and $\\tilde{D}(\\Delta t)$ are derived from the generalized Fourier transform method which is used to solving the PDE of payoff.  $\\tilde{C}(\\Delta t)$ and $\\tilde{D}(\\Delta t)$  are defined as:\n",
    "$$\\left\\{\\begin{array}{ll}\\widetilde C(\\tau)=r\\tau+\\frac{\\kappa^*\\theta^*}{\\sigma_V^2}[(\\widetilde a+\\widetilde b)\\tau-2\\ln(\\frac{1-\\widetilde ge^{\\widetilde b\\tau}}{1-\\widetilde g})]\\\\\\\\\\widetilde D(\\tau)=\\frac{\\widetilde a+\\widetilde b}{\\sigma_V^2}(\\frac{1-e^{\\widetilde b\\tau}}{1-\\widetilde ge^{\\widetilde b\\tau}})\\\\\\\\\\widetilde a=\\kappa^*-2\\rho\\sigma_V,\\quad\\widetilde b=\\sqrt{\\widetilde a^2-2\\sigma_V^2},\\quad\\widetilde g=(\\frac{\\widetilde a}{\\sigma_V})^2-1+(\\frac{\\widetilde a}{\\sigma_V})\\sqrt{(\\frac{\\widetilde a}{\\sigma_V})^2-2}\\\\\\end{array}\\right.$$"
   ]
  },
  {
   "cell_type": "code",
   "execution_count": 6,
   "id": "39abd972-c89d-4a90-9754-844e53046e99",
   "metadata": {},
   "outputs": [],
   "source": [
    "class Exact_Variance_Swap:\n",
    "    def __init__(self, kappa_star, theta_star, rho, sigma_V, v0, r, N, T):\n",
    "        self.kappa_star = kappa_star\n",
    "        self.theta_star = theta_star\n",
    "        self.rho = rho\n",
    "        self.sigma_V = sigma_V\n",
    "        self.v0 = v0\n",
    "        self.r = r\n",
    "        self.N = N\n",
    "        self.T = T\n",
    "        self.dt = T / N\n",
    "    def C_D_calculation(self):\n",
    "        tilde_a = self.kappa_star - 2 * self.rho * self.sigma_V\n",
    "        tilde_b = np.sqrt(tilde_a ** 2 - 2 * self.sigma_V ** 2)\n",
    "        tilde_g = (tilde_a / self.sigma_V) ** 2 - 1 + (tilde_a / self.sigma_V) * np.sqrt((tilde_a / self.sigma_V) ** 2 - 2)\n",
    "        \n",
    "        term1 = self.r * self.dt\n",
    "        term2 = (self.kappa_star * self.theta_star) / (self.sigma_V ** 2)\n",
    "        term3 = (tilde_a + tilde_b) * self.dt\n",
    "        term4 = 2 * np.log((1 - tilde_g * np.exp(tilde_b * self.dt)) / (1 - tilde_g))\n",
    "        \n",
    "        C = term1 + term2 * (term3 - term4)\n",
    "\n",
    "        D = ((tilde_a + tilde_b) / self.sigma_V ** 2) * ((1 - np.exp(tilde_b * self.dt)) / (1 - tilde_g * np.exp(tilde_b * self.dt)))\n",
    "        return C, D\n",
    "        \n",
    "    def f(self):\n",
    "        C, D = self.C_D_calculation()\n",
    "        return np.exp(C + D * self.v0) + np.exp(-self.r * self.dt) - 2\n",
    "\n",
    "    def sum_fi(self):\n",
    "        C, D = self.C_D_calculation()\n",
    "        sum = 0\n",
    "        for i in range(2, self.N + 1):\n",
    "            c_i = 2 * self.kappa_star / (self.sigma_V ** 2 * (1 - np.exp(-self.kappa_star * (i - 1) * self.dt)))\n",
    "            term1 = np.exp(C + c_i * np.exp(-self.kappa_star * (i - 1) * self.dt) / (c_i - D) * D * self.v0)\n",
    "            term2 = (c_i / (c_i - D)) ** (2 * self.kappa_star * self.theta_star / (self.sigma_V ** 2))\n",
    "            sum += term1 * term2 + np.exp(-self.r * self.dt) - 2\n",
    "        return sum\n",
    "    \n",
    "    def K_var(self):\n",
    "        f_v0 = self.f()\n",
    "        sum_fi_v0 = self.sum_fi()\n",
    "        K_var = (np.exp(self.r * self.dt) / self.T) * (f_v0 + sum_fi_v0) * 100 ** 2\n",
    "        return K_var\n"
   ]
  },
  {
   "cell_type": "code",
   "execution_count": 5,
   "id": "378b5d5c-426f-4d7f-8e03-5827d4ee6aee",
   "metadata": {},
   "outputs": [
    {
     "name": "stdout",
     "output_type": "stream",
     "text": [
      "N =  4 K_var =  263.21430840556746\n",
      "N =  12 K_var =  242.7208652168669\n",
      "N =  26 K_var =  238.58347847937674\n",
      "N =  52 K_var =  237.1097368799061\n",
      "N =  252 K_var =  236.09696948601052\n"
     ]
    }
   ],
   "source": [
    "for i in [4, 12, 26, 52, 252]:\n",
    "    K_var = Exact_Variance_Swap(kappa_star = 11.35, theta_star = 0.022, rho = -0.64, sigma_V = 0.618, v0 = 0.04, r = 0.1, N = i, T = 1).K_var()\n",
    "    print('N = ', i, 'K_var = ', K_var)"
   ]
  },
  {
   "cell_type": "code",
   "execution_count": null,
   "id": "fa46d814-aec1-4205-9d8a-70916adb6eb6",
   "metadata": {},
   "outputs": [],
   "source": []
  }
 ],
 "metadata": {
  "kernelspec": {
   "display_name": "Python 3 (ipykernel)",
   "language": "python",
   "name": "python3"
  },
  "language_info": {
   "codemirror_mode": {
    "name": "ipython",
    "version": 3
   },
   "file_extension": ".py",
   "mimetype": "text/x-python",
   "name": "python",
   "nbconvert_exporter": "python",
   "pygments_lexer": "ipython3",
   "version": "3.11.7"
  }
 },
 "nbformat": 4,
 "nbformat_minor": 5
}
