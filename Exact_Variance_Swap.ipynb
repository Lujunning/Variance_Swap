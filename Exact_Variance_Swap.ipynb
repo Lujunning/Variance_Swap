{
 "cells": [
  {
   "cell_type": "code",
   "execution_count": 1,
   "id": "5179341b-5229-45be-bdd7-7cdad5857cfc",
   "metadata": {},
   "outputs": [],
   "source": [
    "import numpy as np\n",
    "import math\n",
    "import abc"
   ]
  },
  {
   "cell_type": "markdown",
   "id": "e808eaf6-9e65-4530-ae80-68d8b1ce8217",
   "metadata": {},
   "source": [
    "### 1. Heston Model\n",
    "$$\\left.\\left\\{\\begin{array}{l}dS_t=\\mu S_tdt+\\sqrt{v_t}S_tdB_t^S\\\\\\\\dv_t=\\kappa(\\theta-v_t)dt+\\sigma_V\\sqrt{v_t}dB_t^V\\end{array}\\right.\\right.$$\n",
    "According to Heston(1993), these can be transfered to a risk-neutral probability measure:\n",
    "$$\\left\\{\\begin{array}{l}dS_t=rS_tdt+\\sqrt{v_t}S_td\\widetilde{B}_t^S\\\\\\\\dv_t=\\kappa^*(\\theta^*-v_t)dt+\\sigma_V\\sqrt{v_t}d\\widetilde{B}_t^V\\end{array}\\right.$$\n",
    "where $\\kappa^*=\\kappa+\\lambda,\\quad\\theta^*=\\frac{\\kappa\\theta}{\\kappa+\\lambda}$, and $\\lambda$ is the premium of volatility risk."
   ]
  },
  {
   "attachments": {},
   "cell_type": "markdown",
   "id": "7ebbebe9-b026-4545-9ee1-5bd6d99eedb4",
   "metadata": {},
   "source": [
    "### 2. Variance Swap\n",
    "The value of a variance swap at expiry :\n",
    "$$V_T=(\\sigma_R^2-K_{VAR})\\times L$$\n",
    "where $\\sigma_R^2$ is the annualized realized variance, $K_{VAR}$ is the annualized delivery price, and $L$ is the notional amount of swap.\n",
    "\n",
    "In risk-neutral world, the value of a variance swap at time t is the expected present value of the future payoff, $V_{t} = E_{t}^{Q}[e^{-r(T-t)}(\\sigma_{R}^{2}-K_{var})L]$. This should be zero at the beginning of the contract since there is no cost to enter into a swap. Therefore, the fair variance delivery price can be easily defined as $K_{var}=E_0^Q[\\sigma_R^2]$."
   ]
  },
  {
   "cell_type": "markdown",
   "id": "a246621c-19fd-4a3e-9891-32d989446253",
   "metadata": {},
   "source": [
    "### 3. Fair strike price for the variance swap\n",
    "The fair strike price for the variance swap is given as:\n",
    "$$K_{var}=E_0^Q[\\sigma_R^2]=\\frac{e^{r\\Delta t}}{T}[f(v_0)+\\sum_{i=2}^Nf_i(v_0)]\\times100^2$$\n",
    "where r is interest rate, $\\Delta t$ is defined as $\\frac{T}{N}$ and N is the number of obersavation days.\n",
    "\n",
    "Function $f(v_0)$ and $f_i(v_0)$ are defined as:\n",
    "$$f(v)=e^{\\tilde C(\\Delta t)+\\tilde D(\\Delta t)v}+e^{-r\\Delta t}-2$$\n",
    "$$\\begin{aligned}f_{i}(v_{0})&=e^{\\tilde{C}(\\Delta t)+\\frac{c_{i}e^{-\\kappa^{*}t_{i-1}}}{c_{i}-\\tilde{D}(\\Delta t)}\\tilde{D}(\\Delta t)v_{0}}(\\frac{c_{i}}{c_{i}-\\tilde{D}(\\Delta t)})^{\\frac{2\\kappa^{*}\\theta^{*}}{\\sigma_{V}^{2}}}+e^{-r\\Delta t}-2\\end{aligned}$$\n",
    "where $t_i = i\\Delta t$, and $\\kappa^{*}, \\theta^{*}, \\sigma_{V}$ are the parameters of Heston model under risk-neutral probability measure.\n",
    "\n",
    "Function $\\tilde{C}(\\Delta t)$ and $\\tilde{D}(\\Delta t)$ are derived from the generalized Fourier transform method which is used to solving the PDE of payoff.  $\\tilde{C}(\\Delta t)$ and $\\tilde{D}(\\Delta t)$  are defined as:\n",
    "$$\\left\\{\\begin{array}{ll}\\widetilde C(\\tau)=r\\tau+\\frac{\\kappa^*\\theta^*}{\\sigma_V^2}[(\\widetilde a+\\widetilde b)\\tau-2\\ln(\\frac{1-\\widetilde ge^{\\widetilde b\\tau}}{1-\\widetilde g})]\\\\\\\\\\widetilde D(\\tau)=\\frac{\\widetilde a+\\widetilde b}{\\sigma_V^2}(\\frac{1-e^{\\widetilde b\\tau}}{1-\\widetilde ge^{\\widetilde b\\tau}})\\\\\\\\\\widetilde a=\\kappa^*-2\\rho\\sigma_V,\\quad\\widetilde b=\\sqrt{\\widetilde a^2-2\\sigma_V^2},\\quad\\widetilde g=(\\frac{\\widetilde a}{\\sigma_V})^2-1+(\\frac{\\widetilde a}{\\sigma_V})\\sqrt{(\\frac{\\widetilde a}{\\sigma_V})^2-2}\\\\\\end{array}\\right.$$"
   ]
  },
  {
   "cell_type": "code",
   "execution_count": 2,
   "id": "a2b8359a-0d39-4478-a887-d92d904acd99",
   "metadata": {},
   "outputs": [],
   "source": [
    "class Variance_Swap(abc.ABC):\n",
    "    def __init__(self, kappa_star, theta_star, rho, sigma_V, v0, r, N, T):\n",
    "        self.kappa_star = kappa_star\n",
    "        self.theta_star = theta_star\n",
    "        self.rho = rho\n",
    "        self.sigma_V = sigma_V\n",
    "        self.v0 = v0\n",
    "        self.r = r\n",
    "        self.N = N\n",
    "        self.T = T\n",
    "        self.dt = T / N\n",
    "        self.M = 200000\n",
    "        self.S0 = 1\n",
    "    def W_generation(self):\n",
    "        W1 = np.random.standard_normal((self.N, self.M))\n",
    "        W2 = np.random.standard_normal((self.N, self.M))\n",
    "        return W1, W2"
   ]
  },
  {
   "cell_type": "code",
   "execution_count": 3,
   "id": "39abd972-c89d-4a90-9754-844e53046e99",
   "metadata": {},
   "outputs": [],
   "source": [
    "class Closed_Form_Solution(Variance_Swap):\n",
    "    def C_D_calculation(self):\n",
    "        tilde_a = self.kappa_star - 2 * self.rho * self.sigma_V\n",
    "        tilde_b = np.sqrt(tilde_a ** 2 - 2 * self.sigma_V ** 2)\n",
    "        tilde_g = (tilde_a / self.sigma_V) ** 2 - 1 + (tilde_a / self.sigma_V) * np.sqrt((tilde_a / self.sigma_V) ** 2 - 2)\n",
    "        \n",
    "        term1 = self.r * self.dt\n",
    "        term2 = (self.kappa_star * self.theta_star) / (self.sigma_V ** 2)\n",
    "        term3 = (tilde_a + tilde_b) * self.dt\n",
    "        term4 = 2 * np.log((1 - tilde_g * np.exp(tilde_b * self.dt)) / (1 - tilde_g))\n",
    "        \n",
    "        C = term1 + term2 * (term3 - term4)\n",
    "\n",
    "        D = ((tilde_a + tilde_b) / self.sigma_V ** 2) * ((1 - np.exp(tilde_b * self.dt)) / (1 - tilde_g * np.exp(tilde_b * self.dt)))\n",
    "        return C, D\n",
    "        \n",
    "    def f(self):\n",
    "        C, D = self.C_D_calculation()\n",
    "        return np.exp(C + D * self.v0) + np.exp(-self.r * self.dt) - 2\n",
    "\n",
    "    def sum_fi(self):\n",
    "        C, D = self.C_D_calculation()\n",
    "        sum = 0\n",
    "        for i in range(2, self.N + 1):\n",
    "            c_i = 2 * self.kappa_star / (self.sigma_V ** 2 * (1 - np.exp(-self.kappa_star * (i - 1) * self.dt)))\n",
    "            term1 = np.exp(C + c_i * np.exp(-self.kappa_star * (i - 1) * self.dt) / (c_i - D) * D * self.v0)\n",
    "            term2 = (c_i / (c_i - D)) ** (2 * self.kappa_star * self.theta_star / (self.sigma_V ** 2))\n",
    "            sum += term1 * term2 + np.exp(-self.r * self.dt) - 2\n",
    "        return sum\n",
    "    \n",
    "    def K_var(self):\n",
    "        f_v0 = self.f()\n",
    "        sum_fi_v0 = self.sum_fi()\n",
    "        K_var = (np.exp(self.r * self.dt) / self.T) * (f_v0 + sum_fi_v0) * 100 ** 2\n",
    "        return K_var\n"
   ]
  },
  {
   "cell_type": "markdown",
   "id": "80273719-f0f8-4e1d-a5e9-5412f00b2511",
   "metadata": {},
   "source": [
    "### Monte Carlo Simulation\n",
    "By using the simple Euler-Maruyama discretization for the Heston model, we obtain:\n",
    "$$\\left\\{\\begin{array}{l}S_t=S_{t-1}+rS_{t-1}\\Delta t+\\sqrt{|v_{t-1}|}S_{t-1}\\sqrt{\\Delta t}W_t^1\\\\\\\\v_t=v_{t-1}+\\kappa^*(\\theta^*-v_{t-1})\\Delta t+\\sigma\\sqrt{|v_{t-1}|}\\sqrt{\\Delta t}(\\rho W_t^1+\\sqrt{1-\\rho^2}W_t^2)\\end{array}\\right.$$\n",
    "\n",
    "Therefore, we calculate the realized variance by:\n",
    "$$\\sigma_R^2=\\frac{AF}{N}\\sum_{i=1}^N(\\frac{S_{t_i}-S_{t_{i-1}}}{S_{t_{i-1}}})^2\\times100^2$$\n",
    "where N is the number of observations and AF is the annualized factor converting this expression to an annualized variance, $AF=\\frac{1}{\\Delta t}=\\frac{N}{T}$."
   ]
  },
  {
   "cell_type": "code",
   "execution_count": 4,
   "id": "8c4a302f-ead3-493b-a51d-8b8540d935b2",
   "metadata": {},
   "outputs": [],
   "source": [
    "class Numerical_Solution(Variance_Swap):\n",
    "\n",
    "    def MC_simulation(self):\n",
    "        W1, W2 = self.W_generation()\n",
    "        sigma_path = np.zeros((self.N + 1, self.M))\n",
    "        sigma_path[0] = self.v0\n",
    "        for i in range(1, self.N + 1):\n",
    "            sigma_path[i] = sigma_path[i-1] + self.kappa_star * (self.theta_star - sigma_path[i-1]) * self.dt\n",
    "            + self.sigma_V * np.sqrt(abs(sigma_path[i-1]) * self.dt) * (self.rho * W1[i-1] + np.sqrt(1 - self.rho ** 2) * W2[i-1])\n",
    "        \n",
    "        S_path = np.zeros((self.N + 1, self.M))\n",
    "        S_path[0] = self.S0\n",
    "        for i in range(1, self.N + 1):\n",
    "            S_path[i] = S_path[i-1] + self.r * S_path[i-1] * self.dt + np.sqrt(abs(sigma_path[i-1]) * self.dt) * S_path[i-1] * W1[i - 1]\n",
    "        return S_path\n",
    "    def Realized_vol(self):\n",
    "        S_path = self.MC_simulation()\n",
    "        S_path_pre = S_path[1:]\n",
    "        S_path_lag = S_path[:-1]\n",
    "        realized_vol = np.sum(((S_path_pre - S_path_lag)/S_path_lag)**2, axis = 0)\n",
    "        return np.mean(realized_vol) * 100**2"
   ]
  },
  {
   "cell_type": "code",
   "execution_count": 5,
   "id": "378b5d5c-426f-4d7f-8e03-5827d4ee6aee",
   "metadata": {},
   "outputs": [
    {
     "name": "stdout",
     "output_type": "stream",
     "text": [
      "N =  4 K_var =  263.21430840556746 584.4665438352203\n",
      "N =  5 K_var =  256.4864155589642 371.28959960831014\n",
      "N =  6 K_var =  252.22828682744014 244.38435399930808\n",
      "N =  12 K_var =  242.7208652168669 244.75712561947842\n",
      "N =  26 K_var =  238.58347847937674 239.80173108525418\n",
      "N =  52 K_var =  237.1097368799061 237.76449526393435\n",
      "N =  252 K_var =  236.09696948601052 236.2766497550292\n"
     ]
    }
   ],
   "source": [
    "for i in [4, 5, 6, 12, 26, 52, 252]:\n",
    "    Discrete_Model = Closed_Form_Solution(kappa_star = 11.35, theta_star = 0.022, rho = -0.64, sigma_V = 0.618, v0 = 0.04, r = 0.1, N = i, T = 1).K_var()\n",
    "    MC_simulation = Numerical_Solution(kappa_star = 11.35, theta_star = 0.022, rho = -0.64, sigma_V = 0.618, v0 = 0.04, r = 0.1, N = i, T = 1).Realized_vol()\n",
    "    print('N = ', i, 'K_var = ', Discrete_Model, MC_simulation)"
   ]
  }
 ],
 "metadata": {
  "kernelspec": {
   "display_name": "Python 3 (ipykernel)",
   "language": "python",
   "name": "python3"
  },
  "language_info": {
   "codemirror_mode": {
    "name": "ipython",
    "version": 3
   },
   "file_extension": ".py",
   "mimetype": "text/x-python",
   "name": "python",
   "nbconvert_exporter": "python",
   "pygments_lexer": "ipython3",
   "version": "3.11.7"
  }
 },
 "nbformat": 4,
 "nbformat_minor": 5
}
